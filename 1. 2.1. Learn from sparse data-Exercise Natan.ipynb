{
 "cells": [
  {
   "cell_type": "code",
   "execution_count": 1,
   "metadata": {
    "id": "__UqpfWmZk_M"
   },
   "outputs": [],
   "source": [
    "import torch"
   ]
  },
  {
   "cell_type": "code",
   "execution_count": 2,
   "metadata": {
    "colab": {
     "base_uri": "https://localhost:8080/"
    },
    "id": "ABW0dcklZddi",
    "outputId": "aa08a3a0-b563-4db0-944d-a9c164c83aa5"
   },
   "outputs": [
    {
     "name": "stdout",
     "output_type": "stream",
     "text": [
      "cuda GeForce RTX 2070\n"
     ]
    }
   ],
   "source": [
    "if(torch.cuda.is_available()):\n",
    "    device = torch.device(\"cuda\")\n",
    "    print(device, torch.cuda.get_device_name(0))\n",
    "else:\n",
    "    device= torch.device(\"cpu\")\n",
    "    print(device)"
   ]
  },
  {
   "cell_type": "markdown",
   "metadata": {
    "id": "ECDyDJRDpTBX"
   },
   "source": [
    "# Generate data"
   ]
  },
  {
   "cell_type": "code",
   "execution_count": 3,
   "metadata": {
    "id": "uJOamte-liVM"
   },
   "outputs": [],
   "source": [
    "import random\n",
    "lstX = []\n",
    "lstY = []\n",
    "for x in range(-5000, 5000, 250):\n",
    "  lstX.append([x])\n",
    "  y = 3*x*x*x + 2*x*x + 5*x + 4\n",
    "  lstY.append([y])"
   ]
  },
  {
   "cell_type": "code",
   "execution_count": 4,
   "metadata": {},
   "outputs": [],
   "source": [
    "# lstX"
   ]
  },
  {
   "cell_type": "code",
   "execution_count": 5,
   "metadata": {},
   "outputs": [],
   "source": [
    "# lstY"
   ]
  },
  {
   "cell_type": "code",
   "execution_count": 6,
   "metadata": {
    "colab": {
     "base_uri": "https://localhost:8080/"
    },
    "id": "LEv62WfjaiMd",
    "outputId": "aa041a16-a3fe-4973-a2e4-9948c2b1b2ae"
   },
   "outputs": [
    {
     "name": "stdout",
     "output_type": "stream",
     "text": [
      "(40, 1) (40, 1)\n"
     ]
    }
   ],
   "source": [
    "import numpy as np\n",
    "numpyX = np.array(lstX)\n",
    "numpyY = np.array(lstY)\n",
    "print(numpyX.shape, numpyY.shape)"
   ]
  },
  {
   "cell_type": "code",
   "execution_count": 7,
   "metadata": {
    "colab": {
     "base_uri": "https://localhost:8080/"
    },
    "id": "8ZHmrQS-84st",
    "outputId": "e34f3300-6b84-4b9f-d62b-e812c80fd7d1"
   },
   "outputs": [
    {
     "name": "stdout",
     "output_type": "stream",
     "text": [
      "(32, 1) (8, 1) (32, 1) (8, 1)\n"
     ]
    }
   ],
   "source": [
    "from sklearn.model_selection import train_test_split\n",
    "trainX, testX, trainY_hat, testY_hat = train_test_split(numpyX, numpyY, test_size=0.20, random_state=0)\n",
    "print(trainX.shape, testX.shape, trainY_hat.shape, testY_hat.shape)"
   ]
  },
  {
   "cell_type": "code",
   "execution_count": 8,
   "metadata": {
    "colab": {
     "base_uri": "https://localhost:8080/",
     "height": 276
    },
    "id": "GyMi6ytR9T18",
    "outputId": "c8f78620-72e6-4d05-a209-f2a0d1ed4d9a"
   },
   "outputs": [
    {
     "data": {
      "image/png": "[encoded data removed]",
      "text/plain": [
       "<Figure size 864x288 with 1 Axes>"
      ]
     },
     "metadata": {
      "needs_background": "light"
     },
     "output_type": "display_data"
    }
   ],
   "source": [
    "import matplotlib.pyplot as plt\n",
    "plt.figure(figsize=(12, 4))\n",
    "plt.scatter(trainX, trainY_hat, color = \"blue\")\n",
    "plt.scatter(testX, testY_hat, color = \"red\")\n",
    "plt.show()"
   ]
  },
  {
   "cell_type": "markdown",
   "metadata": {
    "id": "4s4g_ujnQajv"
   },
   "source": [
    "# Build NN"
   ]
  },
  {
   "cell_type": "code",
   "execution_count": 9,
   "metadata": {
    "id": "a1kFKiHzQajW"
   },
   "outputs": [],
   "source": [
    "import torch.nn as nn"
   ]
  },
  {
   "cell_type": "code",
   "execution_count": 10,
   "metadata": {
    "colab": {
     "base_uri": "https://localhost:8080/"
    },
    "id": "-MvLGgYaQajy",
    "outputId": "d09eb739-0d70-456d-d29d-4eecad6cdae7"
   },
   "outputs": [
    {
     "name": "stdout",
     "output_type": "stream",
     "text": [
      "Sequential(\n",
      "  (0): Linear(in_features=1, out_features=50, bias=True)\n",
      "  (1): ReLU()\n",
      "  (2): Linear(in_features=50, out_features=25, bias=True)\n",
      "  (3): ReLU()\n",
      "  (4): Linear(in_features=25, out_features=15, bias=True)\n",
      "  (5): ReLU()\n",
      "  (6): Linear(in_features=15, out_features=10, bias=True)\n",
      "  (7): ReLU()\n",
      "  (8): Linear(in_features=10, out_features=1, bias=True)\n",
      ")\n"
     ]
    }
   ],
   "source": [
    "MyNet = nn.Sequential(\n",
    "    nn.Linear(1, 50),\n",
    "    nn.ReLU(),\n",
    "    nn.Linear(50, 25),\n",
    "    nn.ReLU(),\n",
    "    nn.Linear(25, 15),\n",
    "    nn.ReLU(),\n",
    "    nn.Linear(15, 10),\n",
    "    nn.ReLU(),\n",
    "    nn.Linear(10, 1),\n",
    ")\n",
    "MyNet.to(device)\n",
    "print(MyNet)"
   ]
  },
  {
   "cell_type": "code",
   "execution_count": 11,
   "metadata": {
    "colab": {
     "base_uri": "https://localhost:8080/"
    },
    "id": "mHh2X1LtVZ5s",
    "outputId": "be6cf776-c436-4321-987e-f09cf3290043"
   },
   "outputs": [
    {
     "name": "stdout",
     "output_type": "stream",
     "text": [
      "----------------------------------------------------------------\n",
      "        Layer (type)               Output Shape         Param #\n",
      "================================================================\n",
      "            Linear-1               [-1, 32, 50]             100\n",
      "              ReLU-2               [-1, 32, 50]               0\n",
      "            Linear-3               [-1, 32, 25]           1,275\n",
      "              ReLU-4               [-1, 32, 25]               0\n",
      "            Linear-5               [-1, 32, 15]             390\n",
      "              ReLU-6               [-1, 32, 15]               0\n",
      "            Linear-7               [-1, 32, 10]             160\n",
      "              ReLU-8               [-1, 32, 10]               0\n",
      "            Linear-9                [-1, 32, 1]              11\n",
      "================================================================\n",
      "Total params: 1,936\n",
      "Trainable params: 1,936\n",
      "Non-trainable params: 0\n",
      "----------------------------------------------------------------\n",
      "Input size (MB): 0.00\n",
      "Forward/backward pass size (MB): 0.05\n",
      "Params size (MB): 0.01\n",
      "Estimated Total Size (MB): 0.06\n",
      "----------------------------------------------------------------\n"
     ]
    }
   ],
   "source": [
    "from torchsummary import summary\n",
    "summary(MyNet, input_size=(32, 1))"
   ]
  },
  {
   "cell_type": "code",
   "execution_count": 12,
   "metadata": {
    "id": "h9pgtjB2Qaj0"
   },
   "outputs": [],
   "source": [
    "loss_func = nn.MSELoss()"
   ]
  },
  {
   "cell_type": "code",
   "execution_count": 13,
   "metadata": {
    "id": "TfDLpOKCQajk"
   },
   "outputs": [],
   "source": [
    "optimizer = torch.optim.Adam(MyNet.parameters(), lr=0.005)"
   ]
  },
  {
   "cell_type": "markdown",
   "metadata": {
    "id": "yOKJidaQQakZ"
   },
   "source": [
    "# Train N epoches"
   ]
  },
  {
   "cell_type": "code",
   "execution_count": 14,
   "metadata": {
    "id": "su8r11Ei_oKE"
   },
   "outputs": [],
   "source": [
    "tensorX = torch.FloatTensor(trainX).to(device)\n",
    "tensorY_hat = torch.FloatTensor(trainY_hat).to(device)"
   ]
  },
  {
   "cell_type": "code",
   "execution_count": 15,
   "metadata": {},
   "outputs": [],
   "source": [
    "# tensorX"
   ]
  },
  {
   "cell_type": "code",
   "execution_count": 16,
   "metadata": {},
   "outputs": [],
   "source": [
    "# tensorY_hat"
   ]
  },
  {
   "cell_type": "code",
   "execution_count": 17,
   "metadata": {
    "id": "zdpYknvbQaka"
   },
   "outputs": [],
   "source": [
    "lossLst = []\n",
    "for epoch in range(1, 5000):\n",
    "    tensorY = MyNet(tensorX)\n",
    "    loss = loss_func(tensorY_hat, tensorY)\n",
    "    loss1 = float(loss)\n",
    "    #print(\"%.2f\" % (loss1), end = \", \")\n",
    "    lossLst.append(loss1)\n",
    "    optimizer.zero_grad()\n",
    "    loss.backward()\n",
    "    optimizer.step()"
   ]
  },
  {
   "cell_type": "code",
   "execution_count": 18,
   "metadata": {},
   "outputs": [],
   "source": [
    "# lossLst"
   ]
  },
  {
   "cell_type": "code",
   "execution_count": 19,
   "metadata": {
    "colab": {
     "base_uri": "https://localhost:8080/",
     "height": 385
    },
    "id": "wxUqhxTRQakc",
    "outputId": "36b13e2a-b6ad-4f0e-bb45-89e053e8599a"
   },
   "outputs": [
    {
     "data": {
      "image/png": "[encoded data removed]",
      "text/plain": [
       "<Figure size 864x432 with 1 Axes>"
      ]
     },
     "metadata": {
      "needs_background": "light"
     },
     "output_type": "display_data"
    }
   ],
   "source": [
    "plt.figure(figsize=(12, 6))\n",
    "plt.plot(lossLst)\n",
    "plt.show()"
   ]
  },
  {
   "cell_type": "markdown",
   "metadata": {
    "id": "kedZymCMuu8t"
   },
   "source": [
    "# Training data performance"
   ]
  },
  {
   "cell_type": "code",
   "execution_count": 20,
   "metadata": {
    "colab": {
     "base_uri": "https://localhost:8080/"
    },
    "id": "60OD3A_Vu0i1",
    "outputId": "baa6f159-d579-4b26-a264-3521c752fba3"
   },
   "outputs": [
    {
     "name": "stdout",
     "output_type": "stream",
     "text": [
      "3381188884339177291776.00\n"
     ]
    }
   ],
   "source": [
    "tensorY = MyNet(tensorX)\n",
    "loss = loss_func(tensorY, tensorY_hat)\n",
    "print(\"%.2f\" % (float(loss)))"
   ]
  },
  {
   "cell_type": "code",
   "execution_count": 21,
   "metadata": {
    "id": "S67p9ZD6umyZ"
   },
   "outputs": [],
   "source": [
    "trainY = tensorY.detach().cpu().numpy()"
   ]
  },
  {
   "cell_type": "code",
   "execution_count": 22,
   "metadata": {
    "colab": {
     "base_uri": "https://localhost:8080/",
     "height": 385
    },
    "id": "sz4hiopOuii4",
    "outputId": "28aa15e0-4670-4524-e73f-1fef00485996"
   },
   "outputs": [
    {
     "data": {
      "image/png": "[encoded data removed]",
      "text/plain": [
       "<Figure size 1296x432 with 1 Axes>"
      ]
     },
     "metadata": {
      "needs_background": "light"
     },
     "output_type": "display_data"
    }
   ],
   "source": [
    "plt.figure(figsize=(18, 6))\n",
    "plt.scatter(trainX, trainY, s=50, lw=0, color=\"red\")\n",
    "plt.scatter(trainX, trainY_hat, s=50, lw=0, color=\"green\")\n",
    "plt.show()"
   ]
  },
  {
   "cell_type": "markdown",
   "metadata": {
    "id": "Rbj87PXpcWcM"
   },
   "source": [
    "# Test "
   ]
  },
  {
   "cell_type": "code",
   "execution_count": 23,
   "metadata": {
    "colab": {
     "base_uri": "https://localhost:8080/"
    },
    "id": "f7X3c7_veV_t",
    "outputId": "ab0ddaa0-5a58-4dd7-e92a-6002941d1a57"
   },
   "outputs": [
    {
     "name": "stdout",
     "output_type": "stream",
     "text": [
      "2788942452391866793984.00\n"
     ]
    }
   ],
   "source": [
    "tensorX = torch.FloatTensor(testX).to(device)\n",
    "tensorY_hat = torch.FloatTensor(testY_hat).to(device)\n",
    "tensorY = MyNet(tensorX)\n",
    "loss = loss_func(tensorY, tensorY_hat)\n",
    "print(\"%.2f\" % (float(loss)))"
   ]
  },
  {
   "cell_type": "code",
   "execution_count": 24,
   "metadata": {
    "id": "UtPQOTEx-ZqI"
   },
   "outputs": [],
   "source": [
    "testY = tensorY.detach().cpu().numpy()"
   ]
  },
  {
   "cell_type": "code",
   "execution_count": 25,
   "metadata": {
    "colab": {
     "base_uri": "https://localhost:8080/",
     "height": 385
    },
    "id": "xlIi1nADdMkY",
    "outputId": "1a739bfc-edd0-4a94-9b92-c72035f4840a"
   },
   "outputs": [
    {
     "data": {
      "image/png": "[encoded data removed]",
      "text/plain": [
       "<Figure size 1296x432 with 1 Axes>"
      ]
     },
     "metadata": {
      "needs_background": "light"
     },
     "output_type": "display_data"
    }
   ],
   "source": [
    "plt.figure(figsize=(18, 6))\n",
    "plt.scatter(testX, testY, s=50, lw=0, color=\"red\")\n",
    "plt.scatter(testX, testY_hat, s=50, lw=0, color=\"green\")\n",
    "plt.show()"
   ]
  },
  {
   "cell_type": "code",
   "execution_count": null,
   "metadata": {
    "id": "1tq9f2hBeKyZ"
   },
   "outputs": [],
   "source": []
  }
 ],
 "metadata": {
  "accelerator": "GPU",
  "colab": {
   "collapsed_sections": [],
   "name": "1. 2. MLP regression.ipynb",
   "provenance": []
  },
  "kernelspec": {
   "display_name": "Python 3",
   "language": "python",
   "name": "python3"
  },
  "language_info": {
   "codemirror_mode": {
    "name": "ipython",
    "version": 3
   },
   "file_extension": ".py",
   "mimetype": "text/x-python",
   "name": "python",
   "nbconvert_exporter": "python",
   "pygments_lexer": "ipython3",
   "version": "3.8.3"
  }
 },
 "nbformat": 4,
 "nbformat_minor": 1
}
