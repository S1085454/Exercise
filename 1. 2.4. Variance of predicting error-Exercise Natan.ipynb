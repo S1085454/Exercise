{
 "cells": [
  {
   "cell_type": "code",
   "execution_count": 1,
   "metadata": {
    "id": "__UqpfWmZk_M"
   },
   "outputs": [],
   "source": [
    "import torch"
   ]
  },
  {
   "cell_type": "code",
   "execution_count": 2,
   "metadata": {
    "colab": {
     "base_uri": "https://localhost:8080/"
    },
    "id": "ABW0dcklZddi",
    "outputId": "0a6368c2-7f54-4d72-efc1-09b25460c688"
   },
   "outputs": [
    {
     "name": "stdout",
     "output_type": "stream",
     "text": [
      "cuda GeForce RTX 2070\n"
     ]
    }
   ],
   "source": [
    "if(torch.cuda.is_available()):\n",
    "    device = torch.device(\"cuda\")\n",
    "    print(device, torch.cuda.get_device_name(0))\n",
    "else:\n",
    "    device= torch.device(\"cpu\")\n",
    "    print(device)"
   ]
  },
  {
   "cell_type": "markdown",
   "metadata": {
    "id": "4s4g_ujnQajv"
   },
   "source": [
    "# Build NN"
   ]
  },
  {
   "cell_type": "code",
   "execution_count": 3,
   "metadata": {
    "id": "a1kFKiHzQajW"
   },
   "outputs": [],
   "source": [
    "import torch.nn as nn"
   ]
  },
  {
   "cell_type": "code",
   "execution_count": 4,
   "metadata": {
    "colab": {
     "base_uri": "https://localhost:8080/"
    },
    "id": "-MvLGgYaQajy",
    "outputId": "c93618fb-dcf7-4be5-e2c2-57a527b25497"
   },
   "outputs": [
    {
     "name": "stdout",
     "output_type": "stream",
     "text": [
      "Sequential(\n",
      "  (0): Linear(in_features=1, out_features=100, bias=True)\n",
      "  (1): ReLU()\n",
      "  (2): Linear(in_features=100, out_features=50, bias=True)\n",
      "  (3): ReLU()\n",
      "  (4): Linear(in_features=50, out_features=10, bias=True)\n",
      "  (5): ReLU()\n",
      "  (6): Linear(in_features=10, out_features=1, bias=True)\n",
      ")\n"
     ]
    }
   ],
   "source": [
    "MyNet = nn.Sequential(\n",
    "    nn.Linear(1, 100),\n",
    "    nn.ReLU(),\n",
    "    nn.Linear(100, 50),\n",
    "    nn.ReLU(),\n",
    "    nn.Linear(50, 10),\n",
    "    nn.ReLU(),\n",
    "    nn.Linear(10, 1),\n",
    ")\n",
    "MyNet.to(device)\n",
    "print(MyNet)"
   ]
  },
  {
   "cell_type": "code",
   "execution_count": 5,
   "metadata": {
    "colab": {
     "base_uri": "https://localhost:8080/"
    },
    "id": "tr_kt09gRW01",
    "outputId": "2c3ed5ba-7cf2-4c2b-8f33-6a51948b631e"
   },
   "outputs": [
    {
     "name": "stdout",
     "output_type": "stream",
     "text": [
      "0.weight ,0.bias ,2.weight ,2.bias ,4.weight ,4.bias ,6.weight ,6.bias ,"
     ]
    }
   ],
   "source": [
    "for name, param in MyNet.named_parameters():\n",
    "  print(name, end=\" ,\")"
   ]
  },
  {
   "cell_type": "code",
   "execution_count": 6,
   "metadata": {
    "id": "utxkyIxOUTXD"
   },
   "outputs": [],
   "source": [
    "# save the initial model parameters of this un-trained NN\n",
    "torch.save(MyNet.state_dict(), \"InitialWeights.dat\")"
   ]
  },
  {
   "cell_type": "code",
   "execution_count": 7,
   "metadata": {
    "colab": {
     "base_uri": "https://localhost:8080/"
    },
    "id": "mHh2X1LtVZ5s",
    "outputId": "6591016a-5c41-4e90-8eff-732a730c0609"
   },
   "outputs": [
    {
     "name": "stdout",
     "output_type": "stream",
     "text": [
      "----------------------------------------------------------------\n",
      "        Layer (type)               Output Shape         Param #\n",
      "================================================================\n",
      "            Linear-1              [-1, 10, 100]             200\n",
      "              ReLU-2              [-1, 10, 100]               0\n",
      "            Linear-3               [-1, 10, 50]           5,050\n",
      "              ReLU-4               [-1, 10, 50]               0\n",
      "            Linear-5               [-1, 10, 10]             510\n",
      "              ReLU-6               [-1, 10, 10]               0\n",
      "            Linear-7                [-1, 10, 1]              11\n",
      "================================================================\n",
      "Total params: 5,771\n",
      "Trainable params: 5,771\n",
      "Non-trainable params: 0\n",
      "----------------------------------------------------------------\n",
      "Input size (MB): 0.00\n",
      "Forward/backward pass size (MB): 0.02\n",
      "Params size (MB): 0.02\n",
      "Estimated Total Size (MB): 0.05\n",
      "----------------------------------------------------------------\n"
     ]
    }
   ],
   "source": [
    "from torchsummary import summary\n",
    "summary(MyNet, input_size=(10, 1))"
   ]
  },
  {
   "cell_type": "code",
   "execution_count": 8,
   "metadata": {
    "id": "h9pgtjB2Qaj0"
   },
   "outputs": [],
   "source": [
    "loss_func = torch.nn.MSELoss()"
   ]
  },
  {
   "cell_type": "code",
   "execution_count": 9,
   "metadata": {
    "id": "TfDLpOKCQajk"
   },
   "outputs": [],
   "source": [
    "optimizer = torch.optim.Adam(MyNet.parameters(), lr=0.005)"
   ]
  },
  {
   "cell_type": "markdown",
   "metadata": {
    "id": "EHiNbdl8Zo_n"
   },
   "source": [
    "# Generate data"
   ]
  },
  {
   "cell_type": "code",
   "execution_count": 10,
   "metadata": {
    "id": "uJOamte-liVM"
   },
   "outputs": [],
   "source": [
    "import random\n",
    "random.seed(a=42, version=2)\n",
    "lstX = []\n",
    "lstY = []\n",
    "for x in range(-100, 100, 5):\n",
    "    lstX.append([x])\n",
    "    a=random.uniform(0,1)\n",
    "    y = 3*x + a*100\n",
    "    lstY.append([y])"
   ]
  },
  {
   "cell_type": "code",
   "execution_count": 11,
   "metadata": {
    "colab": {
     "base_uri": "https://localhost:8080/"
    },
    "id": "LEv62WfjaiMd",
    "outputId": "ce58ad61-dcfa-4e0e-c81d-78c13ce04eab"
   },
   "outputs": [
    {
     "name": "stdout",
     "output_type": "stream",
     "text": [
      "(40, 1) (40, 1)\n"
     ]
    }
   ],
   "source": [
    "import numpy as np\n",
    "numpyX = np.array(lstX)\n",
    "numpyY = np.array(lstY)\n",
    "print(numpyX.shape, numpyY.shape)"
   ]
  },
  {
   "cell_type": "code",
   "execution_count": 12,
   "metadata": {
    "colab": {
     "base_uri": "https://localhost:8080/",
     "height": 374
    },
    "id": "66fqW6_OYWWW",
    "outputId": "50910b43-c35d-4621-9ebb-56aa2f330151"
   },
   "outputs": [
    {
     "data": {
      "image/png": "[encoded data removed]",
      "text/plain": [
       "<Figure size 864x432 with 1 Axes>"
      ]
     },
     "metadata": {
      "needs_background": "light"
     },
     "output_type": "display_data"
    }
   ],
   "source": [
    "import matplotlib.pyplot as plt\n",
    "plt.figure(figsize=(12, 6))\n",
    "plt.scatter(numpyX, numpyY, s=50, lw=0, color = \"blue\")\n",
    "plt.show()"
   ]
  },
  {
   "cell_type": "markdown",
   "metadata": {
    "id": "yOKJidaQQakZ"
   },
   "source": [
    "# Collect variance of model's predicting errors "
   ]
  },
  {
   "cell_type": "code",
   "execution_count": 13,
   "metadata": {
    "id": "YrHEewSrWzDo"
   },
   "outputs": [],
   "source": [
    "from sklearn.model_selection import train_test_split"
   ]
  },
  {
   "cell_type": "code",
   "execution_count": 14,
   "metadata": {
    "id": "1tq9f2hBeKyZ"
   },
   "outputs": [
    {
     "name": "stdout",
     "output_type": "stream",
     "text": [
      "1 ,21 ,41 ,61 ,81 ,101 ,121 ,141 ,161 ,181 ,201 ,221 ,241 ,261 ,281 ,"
     ]
    }
   ],
   "source": [
    "lossLst = []\n",
    "lossLst2 = []\n",
    "for i in range(300):\n",
    "    trainX, testX, trainY_hat, testY_hat = train_test_split(numpyX, numpyY, test_size=0.20, random_state=42)\n",
    "    tensorX = torch.FloatTensor(trainX).to(device)\n",
    "    tensorY_hat = torch.FloatTensor(trainY_hat).to(device)\n",
    "    if(i%20==0):\n",
    "        print(i+1, end = \" ,\")\n",
    "    MyNet.load_state_dict(torch.load('InitialWeights.dat')) #Use the same initial model parameters\n",
    "    for epoch in range(1, 500):\n",
    "        tensorY = MyNet(tensorX)\n",
    "        loss = loss_func(tensorY_hat, tensorY)\n",
    "        regularization_loss = 0\n",
    "        for name, param in MyNet.named_parameters():\n",
    "            if('weight' in name):\n",
    "                regularization_loss += torch.sum(abs(param))\n",
    "        \n",
    "        loss = loss + 5 * regularization_loss\n",
    "        optimizer.zero_grad()\n",
    "        loss.backward()\n",
    "        optimizer.step()\n",
    "    tensorY = MyNet(tensorX)\n",
    "    loss = loss_func(tensorY, tensorY_hat)\n",
    "    test_tensorX = torch.FloatTensor(testX).to(device)\n",
    "    test_tensorY_hat = torch.FloatTensor(testY_hat).to(device)\n",
    "    test_tensorY = MyNet(test_tensorX)\n",
    "    loss2 = loss_func(test_tensorY, test_tensorY_hat)\n",
    "    lossLst.append(float(loss))\n",
    "    lossLst2.append(float(loss2))"
   ]
  },
  {
   "cell_type": "markdown",
   "metadata": {},
   "source": [
    "# Training Loss Plot"
   ]
  },
  {
   "cell_type": "code",
   "execution_count": 15,
   "metadata": {},
   "outputs": [
    {
     "data": {
      "image/png": "[encoded data removed]",
      "text/plain": [
       "<Figure size 432x288 with 1 Axes>"
      ]
     },
     "metadata": {
      "needs_background": "light"
     },
     "output_type": "display_data"
    }
   ],
   "source": [
    "plt.boxplot(lossLst)\n",
    "plt.grid()\n",
    "plt.show()"
   ]
  },
  {
   "cell_type": "markdown",
   "metadata": {},
   "source": [
    "# Testing Loss Plot"
   ]
  },
  {
   "cell_type": "code",
   "execution_count": 16,
   "metadata": {},
   "outputs": [
    {
     "data": {
      "image/png": "[encoded data removed]",
      "text/plain": [
       "<Figure size 432x288 with 1 Axes>"
      ]
     },
     "metadata": {
      "needs_background": "light"
     },
     "output_type": "display_data"
    }
   ],
   "source": [
    "plt.boxplot(lossLst2)\n",
    "plt.grid()\n",
    "plt.show()"
   ]
  },
  {
   "cell_type": "code",
   "execution_count": null,
   "metadata": {},
   "outputs": [],
   "source": []
  }
 ],
 "metadata": {
  "accelerator": "GPU",
  "colab": {
   "collapsed_sections": [],
   "name": "1. 2. MLP regression.ipynb",
   "provenance": []
  },
  "kernelspec": {
   "display_name": "Python 3",
   "language": "python",
   "name": "python3"
  },
  "language_info": {
   "codemirror_mode": {
    "name": "ipython",
    "version": 3
   },
   "file_extension": ".py",
   "mimetype": "text/x-python",
   "name": "python",
   "nbconvert_exporter": "python",
   "pygments_lexer": "ipython3",
   "version": "3.8.3"
  }
 },
 "nbformat": 4,
 "nbformat_minor": 1
}
