{
 "cells": [
  {
   "cell_type": "code",
   "execution_count": 1,
   "metadata": {
    "id": "__UqpfWmZk_M"
   },
   "outputs": [],
   "source": [
    "import torch"
   ]
  },
  {
   "cell_type": "code",
   "execution_count": 2,
   "metadata": {
    "colab": {
     "base_uri": "https://localhost:8080/"
    },
    "id": "ABW0dcklZddi",
    "outputId": "bac1861a-6cc8-4a3c-a431-e6a62747266f"
   },
   "outputs": [
    {
     "name": "stdout",
     "output_type": "stream",
     "text": [
      "cuda GeForce RTX 2070\n"
     ]
    }
   ],
   "source": [
    "if(torch.cuda.is_available()):\n",
    "    device = torch.device(\"cuda\")\n",
    "    print(device, torch.cuda.get_device_name(0))\n",
    "else:\n",
    "    device= torch.device(\"cpu\")\n",
    "    print(device)"
   ]
  },
  {
   "cell_type": "markdown",
   "metadata": {
    "id": "ECDyDJRDpTBX"
   },
   "source": [
    "# Generate data"
   ]
  },
  {
   "cell_type": "code",
   "execution_count": 3,
   "metadata": {
    "id": "uJOamte-liVM"
   },
   "outputs": [],
   "source": [
    "import random\n",
    "random.seed(a=42, version=2)\n",
    "lstX = []\n",
    "lstY = []\n",
    "for x in range(-100, 100, 5):\n",
    "  lstX.append([x])\n",
    "  a=random.uniform(0,1)\n",
    "#   print(a)\n",
    "  y = 3*x + a*100\n",
    "  lstY.append([y])"
   ]
  },
  {
   "cell_type": "code",
   "execution_count": 4,
   "metadata": {
    "colab": {
     "base_uri": "https://localhost:8080/"
    },
    "id": "LEv62WfjaiMd",
    "outputId": "9d59b988-14b5-406b-e321-6538db27e95a"
   },
   "outputs": [
    {
     "name": "stdout",
     "output_type": "stream",
     "text": [
      "(40, 1) (40, 1)\n"
     ]
    }
   ],
   "source": [
    "import numpy as np\n",
    "numpyX = np.array(lstX)\n",
    "numpyY = np.array(lstY)\n",
    "print(numpyX.shape, numpyY.shape)"
   ]
  },
  {
   "cell_type": "code",
   "execution_count": 5,
   "metadata": {
    "colab": {
     "base_uri": "https://localhost:8080/"
    },
    "id": "8ZHmrQS-84st",
    "outputId": "783f813e-b3c5-483e-952c-8b50b6b62cb5"
   },
   "outputs": [
    {
     "name": "stdout",
     "output_type": "stream",
     "text": [
      "(32, 1) (8, 1) (32, 1) (8, 1)\n"
     ]
    }
   ],
   "source": [
    "from sklearn.model_selection import train_test_split\n",
    "trainX, testX, trainY_hat, testY_hat = train_test_split(numpyX, numpyY, test_size=0.20, random_state=42)\n",
    "print(trainX.shape, testX.shape, trainY_hat.shape, testY_hat.shape)"
   ]
  },
  {
   "cell_type": "code",
   "execution_count": 6,
   "metadata": {
    "colab": {
     "base_uri": "https://localhost:8080/",
     "height": 265
    },
    "id": "GyMi6ytR9T18",
    "outputId": "c71545e1-1a2c-4d1d-bcb0-896a25114427"
   },
   "outputs": [
    {
     "data": {
      "image/png": "[encoded data removed]",
      "text/plain": [
       "<Figure size 864x288 with 1 Axes>"
      ]
     },
     "metadata": {
      "needs_background": "light"
     },
     "output_type": "display_data"
    }
   ],
   "source": [
    "import matplotlib.pyplot as plt\n",
    "plt.figure(figsize=(12, 4))\n",
    "plt.scatter(trainX, trainY_hat, color = \"blue\")\n",
    "plt.scatter(testX, testY_hat, color = \"red\")\n",
    "plt.show()"
   ]
  },
  {
   "cell_type": "markdown",
   "metadata": {
    "id": "4s4g_ujnQajv"
   },
   "source": [
    "# Build NN"
   ]
  },
  {
   "cell_type": "code",
   "execution_count": 7,
   "metadata": {
    "id": "a1kFKiHzQajW"
   },
   "outputs": [],
   "source": [
    "import torch.nn as nn"
   ]
  },
  {
   "cell_type": "code",
   "execution_count": 8,
   "metadata": {
    "colab": {
     "base_uri": "https://localhost:8080/"
    },
    "id": "-MvLGgYaQajy",
    "outputId": "fc2fc2db-4b60-495b-fdfb-7ee5a82ac80f"
   },
   "outputs": [
    {
     "name": "stdout",
     "output_type": "stream",
     "text": [
      "Sequential(\n",
      "  (0): Linear(in_features=1, out_features=100, bias=True)\n",
      "  (1): ReLU()\n",
      "  (2): Linear(in_features=100, out_features=50, bias=True)\n",
      "  (3): ReLU()\n",
      "  (4): Linear(in_features=50, out_features=25, bias=True)\n",
      "  (5): ReLU()\n",
      "  (6): Linear(in_features=25, out_features=1, bias=True)\n",
      ")\n"
     ]
    }
   ],
   "source": [
    "MyNet = nn.Sequential(\n",
    "    nn.Linear(1, 100),\n",
    "    nn.ReLU(),\n",
    "    nn.Linear(100, 50),\n",
    "    nn.ReLU(),\n",
    "    nn.Linear(50, 25),\n",
    "    nn.ReLU(),\n",
    "    nn.Linear(25, 1),\n",
    ")\n",
    "MyNet.to(device)\n",
    "print(MyNet)"
   ]
  },
  {
   "cell_type": "code",
   "execution_count": 9,
   "metadata": {
    "colab": {
     "base_uri": "https://localhost:8080/"
    },
    "id": "tr_kt09gRW01",
    "outputId": "110aa23d-3920-46f8-9f32-12ccfe46f809"
   },
   "outputs": [
    {
     "name": "stdout",
     "output_type": "stream",
     "text": [
      "0.weight ,0.bias ,2.weight ,2.bias ,4.weight ,4.bias ,6.weight ,6.bias ,"
     ]
    }
   ],
   "source": [
    "for name, param in MyNet.named_parameters():\n",
    "  print(name, end=\" ,\")"
   ]
  },
  {
   "cell_type": "code",
   "execution_count": 10,
   "metadata": {
    "colab": {
     "base_uri": "https://localhost:8080/"
    },
    "id": "mHh2X1LtVZ5s",
    "outputId": "6fd15bdf-e5c9-47c4-9498-7d42f590fb11"
   },
   "outputs": [
    {
     "name": "stdout",
     "output_type": "stream",
     "text": [
      "----------------------------------------------------------------\n",
      "        Layer (type)               Output Shape         Param #\n",
      "================================================================\n",
      "            Linear-1              [-1, 10, 100]             200\n",
      "              ReLU-2              [-1, 10, 100]               0\n",
      "            Linear-3               [-1, 10, 50]           5,050\n",
      "              ReLU-4               [-1, 10, 50]               0\n",
      "            Linear-5               [-1, 10, 25]           1,275\n",
      "              ReLU-6               [-1, 10, 25]               0\n",
      "            Linear-7                [-1, 10, 1]              26\n",
      "================================================================\n",
      "Total params: 6,551\n",
      "Trainable params: 6,551\n",
      "Non-trainable params: 0\n",
      "----------------------------------------------------------------\n",
      "Input size (MB): 0.00\n",
      "Forward/backward pass size (MB): 0.03\n",
      "Params size (MB): 0.02\n",
      "Estimated Total Size (MB): 0.05\n",
      "----------------------------------------------------------------\n"
     ]
    }
   ],
   "source": [
    "from torchsummary import summary\n",
    "summary(MyNet, input_size=(10, 1))"
   ]
  },
  {
   "cell_type": "code",
   "execution_count": 11,
   "metadata": {
    "id": "h9pgtjB2Qaj0"
   },
   "outputs": [],
   "source": [
    "loss_func = torch.nn.MSELoss()"
   ]
  },
  {
   "cell_type": "code",
   "execution_count": 12,
   "metadata": {
    "id": "TfDLpOKCQajk"
   },
   "outputs": [],
   "source": [
    "optimizer = torch.optim.Adam(MyNet.parameters(), lr=0.005)"
   ]
  },
  {
   "cell_type": "markdown",
   "metadata": {
    "id": "yOKJidaQQakZ"
   },
   "source": [
    "# Train N epoches"
   ]
  },
  {
   "cell_type": "code",
   "execution_count": 13,
   "metadata": {
    "id": "su8r11Ei_oKE"
   },
   "outputs": [],
   "source": [
    "tensorX = torch.FloatTensor(trainX).to(device)\n",
    "tensorY_hat = torch.FloatTensor(trainY_hat).to(device)"
   ]
  },
  {
   "cell_type": "code",
   "execution_count": 14,
   "metadata": {
    "id": "zdpYknvbQaka"
   },
   "outputs": [],
   "source": [
    "lossLst = []\n",
    "for epoch in range(1, 500):\n",
    "    tensorY = MyNet(tensorX)\n",
    "    loss = loss_func(tensorY_hat, tensorY)\n",
    "    loss1 = float(loss)\n",
    "    #print(\"%.2f\" % (loss1), end = \", \")\n",
    "    lossLst.append(loss1)\n",
    "\n",
    "#     add L2 regularization\n",
    "    regularization_loss = 0\n",
    "    for name, param in MyNet.named_parameters():\n",
    "      if('weight' in name):\n",
    "        regularization_loss += torch.sum((param**2))\n",
    "        \n",
    "    loss = loss + 5 * regularization_loss\n",
    "    optimizer.zero_grad()\n",
    "    loss.backward()\n",
    "    optimizer.step()"
   ]
  },
  {
   "cell_type": "code",
   "execution_count": 15,
   "metadata": {
    "colab": {
     "base_uri": "https://localhost:8080/",
     "height": 374
    },
    "id": "wxUqhxTRQakc",
    "outputId": "bc0ebac1-4f6e-4fc9-8e96-e30593fa8039"
   },
   "outputs": [
    {
     "data": {
      "image/png": "[encoded data removed]",
      "text/plain": [
       "<Figure size 864x432 with 1 Axes>"
      ]
     },
     "metadata": {
      "needs_background": "light"
     },
     "output_type": "display_data"
    }
   ],
   "source": [
    "plt.figure(figsize=(12, 6))\n",
    "plt.plot(lossLst)\n",
    "plt.show()"
   ]
  },
  {
   "cell_type": "markdown",
   "metadata": {
    "id": "kedZymCMuu8t"
   },
   "source": [
    "# Training data performance"
   ]
  },
  {
   "cell_type": "code",
   "execution_count": 16,
   "metadata": {
    "colab": {
     "base_uri": "https://localhost:8080/"
    },
    "id": "60OD3A_Vu0i1",
    "outputId": "0d5865ed-f8bc-4b38-db0f-c253d7d0d9fe"
   },
   "outputs": [
    {
     "name": "stdout",
     "output_type": "stream",
     "text": [
      "596.45\n"
     ]
    }
   ],
   "source": [
    "tensorY = MyNet(tensorX)\n",
    "loss = loss_func(tensorY, tensorY_hat)\n",
    "print(\"%.2f\" % (float(loss)))"
   ]
  },
  {
   "cell_type": "code",
   "execution_count": 17,
   "metadata": {
    "id": "S67p9ZD6umyZ"
   },
   "outputs": [],
   "source": [
    "trainY = tensorY.detach().cpu().numpy()"
   ]
  },
  {
   "cell_type": "code",
   "execution_count": 18,
   "metadata": {
    "colab": {
     "base_uri": "https://localhost:8080/",
     "height": 374
    },
    "id": "sz4hiopOuii4",
    "outputId": "1dfe95f3-2d41-40f4-8f6c-f10a7a105f50"
   },
   "outputs": [
    {
     "data": {
      "image/png": "[encoded data removed]",
      "text/plain": [
       "<Figure size 1296x432 with 1 Axes>"
      ]
     },
     "metadata": {
      "needs_background": "light"
     },
     "output_type": "display_data"
    }
   ],
   "source": [
    "plt.figure(figsize=(18, 6))\n",
    "plt.scatter(trainX, trainY, s=50, lw=0, color=\"red\")\n",
    "plt.scatter(trainX, trainY_hat, s=50, lw=0, color=\"green\")\n",
    "plt.show()"
   ]
  },
  {
   "cell_type": "markdown",
   "metadata": {
    "id": "Rbj87PXpcWcM"
   },
   "source": [
    "# Test "
   ]
  },
  {
   "cell_type": "code",
   "execution_count": 19,
   "metadata": {
    "colab": {
     "base_uri": "https://localhost:8080/"
    },
    "id": "f7X3c7_veV_t",
    "outputId": "3eee1ec3-6151-48ab-9f85-6fbc3f7de9ba"
   },
   "outputs": [
    {
     "name": "stdout",
     "output_type": "stream",
     "text": [
      "1464.77\n"
     ]
    }
   ],
   "source": [
    "tensorX = torch.FloatTensor(testX).to(device)\n",
    "tensorY_hat = torch.FloatTensor(testY_hat).to(device)\n",
    "tensorY = MyNet(tensorX)\n",
    "loss = loss_func(tensorY, tensorY_hat)\n",
    "print(\"%.2f\" % (float(loss)))"
   ]
  },
  {
   "cell_type": "code",
   "execution_count": 20,
   "metadata": {
    "id": "UtPQOTEx-ZqI"
   },
   "outputs": [],
   "source": [
    "testY = tensorY.detach().cpu().numpy()"
   ]
  },
  {
   "cell_type": "code",
   "execution_count": 21,
   "metadata": {
    "colab": {
     "base_uri": "https://localhost:8080/",
     "height": 374
    },
    "id": "xlIi1nADdMkY",
    "outputId": "eb5e86c0-d041-4080-dc45-bbc52882ac13"
   },
   "outputs": [
    {
     "data": {
      "image/png": "[encoded data removed]",
      "text/plain": [
       "<Figure size 1296x432 with 1 Axes>"
      ]
     },
     "metadata": {
      "needs_background": "light"
     },
     "output_type": "display_data"
    }
   ],
   "source": [
    "plt.figure(figsize=(18, 6))\n",
    "plt.scatter(testX, testY, s=50, lw=0, color=\"red\")\n",
    "plt.scatter(testX, testY_hat, s=50, lw=0, color=\"green\")\n",
    "plt.show()"
   ]
  },
  {
   "cell_type": "code",
   "execution_count": null,
   "metadata": {
    "id": "1tq9f2hBeKyZ"
   },
   "outputs": [],
   "source": []
  }
 ],
 "metadata": {
  "accelerator": "GPU",
  "colab": {
   "collapsed_sections": [],
   "name": "1. 2. MLP regression.ipynb",
   "provenance": []
  },
  "kernelspec": {
   "display_name": "Python 3",
   "language": "python",
   "name": "python3"
  },
  "language_info": {
   "codemirror_mode": {
    "name": "ipython",
    "version": 3
   },
   "file_extension": ".py",
   "mimetype": "text/x-python",
   "name": "python",
   "nbconvert_exporter": "python",
   "pygments_lexer": "ipython3",
   "version": "3.8.3"
  }
 },
 "nbformat": 4,
 "nbformat_minor": 1
}
